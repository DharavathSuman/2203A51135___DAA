{
  "nbformat": 4,
  "nbformat_minor": 0,
  "metadata": {
    "colab": {
      "provenance": [],
      "authorship_tag": "ABX9TyNDRzmTAa2a7CsDzrbepSU/",
      "include_colab_link": true
    },
    "kernelspec": {
      "name": "python3",
      "display_name": "Python 3"
    },
    "language_info": {
      "name": "python"
    }
  },
  "cells": [
    {
      "cell_type": "markdown",
      "metadata": {
        "id": "view-in-github",
        "colab_type": "text"
      },
      "source": [
        "<a href=\"https://colab.research.google.com/github/DEEPAK-RAMGIRI/2203A51216_DAA/blob/main/LAB_002.ipynb\" target=\"_parent\"><img src=\"https://colab.research.google.com/assets/colab-badge.svg\" alt=\"Open In Colab\"/></a>"
      ]
    },
    {
      "cell_type": "markdown",
      "source": [
        "# DATE:01/08/2024"
      ],
      "metadata": {
        "id": "vYPXCdBrL4iC"
      }
    },
    {
      "cell_type": "markdown",
      "source": [
        "#BUBBLE SORT"
      ],
      "metadata": {
        "id": "IE4AunL5PTAt"
      }
    },
    {
      "cell_type": "code",
      "execution_count": 1,
      "metadata": {
        "colab": {
          "base_uri": "https://localhost:8080/"
        },
        "id": "odcmEXeoJ3C4",
        "outputId": "9919719d-2a8a-4315-fc5f-abb11101b499"
      },
      "outputs": [
        {
          "output_type": "stream",
          "name": "stdout",
          "text": [
            "1\n",
            "23\n",
            "0\n",
            "5\n",
            "[0, 1, 5, 23]\n"
          ]
        }
      ],
      "source": [
        "#Bubble Sort\n",
        "#Dynamically taking the values\n",
        "#Time Complexcity O(N^2)\n",
        "def function1(a):\n",
        "  for i in range(len(a)):\n",
        "    for j in range (len(a)-1):\n",
        "      if a[j] > a[j+1]:\n",
        "        temp=a[j+1]\n",
        "        a[j+1]=a[j]\n",
        "        a[j]=temp\n",
        "  return a\n",
        "a=[]\n",
        "for i in range(4):\n",
        "  a.append(int(input()))\n",
        "print(function1(a))"
      ]
    },
    {
      "cell_type": "markdown",
      "source": [
        "#INSERTION SORT"
      ],
      "metadata": {
        "id": "H-ZhUcCxPfIX"
      }
    },
    {
      "cell_type": "code",
      "source": [
        "#Insertion Sort\n",
        "#Time Complexcity O(n^2)\n",
        "def function1(a):\n",
        "  for i in range(len(a)):\n",
        "    key=a[i]\n",
        "    j=i-1\n",
        "    while j>=0 and key<a[j]:\n",
        "      a[j + 1] = a[j]\n",
        "      j -= 1\n",
        "    a[j + 1] = key\n",
        "  return a\n",
        "a=[1,23,4,5,6,79,0,34]\n",
        "print(function1(a))"
      ],
      "metadata": {
        "colab": {
          "base_uri": "https://localhost:8080/"
        },
        "id": "Gj_EYR3tKJB6",
        "outputId": "40e5b063-16b5-48f1-c5a2-3fef86c36f41"
      },
      "execution_count": 2,
      "outputs": [
        {
          "output_type": "stream",
          "name": "stdout",
          "text": [
            "[0, 1, 4, 5, 6, 23, 34, 79]\n"
          ]
        }
      ]
    },
    {
      "cell_type": "markdown",
      "source": [
        "#SELECTION SORT"
      ],
      "metadata": {
        "id": "psbvw5bTPm6W"
      }
    },
    {
      "cell_type": "code",
      "source": [
        "#Selection Sort\n",
        "#Time Complexcity O(N^2)\n",
        "#Space Complexcity\n",
        "def function1(a):\n",
        "  for i in range(len(a)-1):\n",
        "    index=i\n",
        "    for j in range(i+1,len(a)):\n",
        "      if(a[index] > a[j]):\n",
        "        index=j\n",
        "    a[i],a[index]=a[index],a[i]\n",
        "  return a\n",
        "a=[1,23,4,5,6,79,0,34]\n",
        "print(function1(a))"
      ],
      "metadata": {
        "colab": {
          "base_uri": "https://localhost:8080/"
        },
        "id": "-GDQdTrdKMV8",
        "outputId": "2ae45546-1b4f-4543-d3b8-2baac3358bfa"
      },
      "execution_count": 3,
      "outputs": [
        {
          "output_type": "stream",
          "name": "stdout",
          "text": [
            "[0, 1, 4, 5, 6, 23, 34, 79]\n"
          ]
        }
      ]
    }
  ]
}